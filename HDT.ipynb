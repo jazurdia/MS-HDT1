{
 "cells": [
  {
   "cell_type": "markdown",
   "metadata": {},
   "source": [
    "# Ejercicio 01"
   ]
  },
  {
   "cell_type": "markdown",
   "metadata": {},
   "source": [
    "#"
   ]
  },
  {
   "cell_type": "markdown",
   "metadata": {},
   "source": [
    "1. **¿Qué es un modelo?**\n",
    "   Un modelo es una representación simplificada de un sistema real que captura sus principales características y comportamientos. Se utiliza para analizar, comprender y predecir el comportamiento del sistema bajo diferentes condiciones. Los modelos pueden ser matemáticos, físicos, conceptuales o computacionales, y ayudan a los investigadores y profesionales a experimentar y evaluar diversas hipótesis y escenarios sin necesidad de interactuar directamente con el sistema real.\n",
    "\n",
    "2. **¿Qué es simulación?**\n",
    "   La simulación es una técnica que utiliza modelos para replicar y estudiar el comportamiento de un sistema real o imaginado a lo largo del tiempo. A través de la simulación, se pueden experimentar diferentes condiciones y escenarios, observando sus efectos sin riesgos o costos asociados con experimentos reales. Las simulaciones se utilizan en diversas áreas, como la ingeniería, la economía, la medicina y las ciencias sociales, para tomar decisiones informadas y optimizar procesos.\n",
    "\n",
    "3. **¿Qué es un algoritmo heurístico?**\n",
    "   Un algoritmo heurístico es un método de resolución de problemas que emplea una estrategia práctica y no óptima para encontrar una solución suficientemente buena en un tiempo razonable. Estos algoritmos son especialmente útiles para problemas complejos donde las soluciones exactas son difíciles de obtener. Las heurísticas se basan en reglas empíricas, intuiciones o enfoques simplificados que ayudan a reducir el espacio de búsqueda y a encontrar soluciones viables rápidamente, aunque no garantizan siempre la solución óptima.\n",
    "\n",
    "4. **Defina los pasos de algoritmos genéticos**\n",
    "   \n",
    "   Los algoritmos genéticos siguen una serie de pasos que imitan los procesos evolutivos naturales:\n",
    "    1. Conocer la población (Definir n población)\n",
    "    2. Calcular fitness\n",
    "    3. Realizar el cross over\n",
    "    4. Mutar\n",
    "    5. Evaluar fitness\n",
    "    6. Elegir los mas aptos\n",
    "    7. Re definir la nueva población con los más aptos\n",
    "    8. Regresar al paso 3. \n",
    "    9. Evaluar las condiciones de terminación\n",
    "            Pueden ser, pero no están limitadas a esto:\n",
    "        1. t iteraciones\n",
    "        2. porcentaje de la población con un fitness arriba de x valor\n",
    "        3. Que haya un individuo o un conjunto de individuos con ciertas características. \n",
    "    10. Presentar resultados"
   ]
  },
  {
   "cell_type": "markdown",
   "metadata": {},
   "source": [
    "# Ejercicio 02\n",
    "\n",
    "Mediante el uso de algoritmos genéticos, resuelva el siguiente ejercicio.\n",
    "Implemente un algoritmo genético en Python para encontrar el valor máximo de la función\n",
    "dentro del intervalo [0, 1]\n",
    "\n",
    "𝑓(𝑥) = 𝑥 * 𝑠𝑖𝑛(10π𝑥) + 1\n",
    "\n",
    "\n",
    "Para ello considere los siguientes pasos:\n",
    "1. Definir el problema: implemente la función objetivo\n",
    "2. Inicializar la población: genere una población inicial de individuos con valores aleatorios dentro de los\n",
    "límites dados.\n",
    "3. Evaluar aptitud: Cree una función para evaluar la aptitud de cada individuo en función de la función objetivo.\n",
    "4. Selección: Implemente un mecanismo de selección para elegir a los padres de la población en función de\n",
    "su aptitud.\n",
    "5. Crossover: Diseñe un método cruzado para producir descendencia combinando partes de dos padres.\n",
    "6. Mutación: implemente una función de mutación para introducir cambios aleatorios en algunos de los\n",
    "descendientes.\n",
    "7. Reemplazo: Forme una nueva población reemplazando algunos individuos antiguos por otros nuevos\n",
    "generados por cruce y mutación.\n",
    "8. Iteración a través de generaciones: Ejecute el bucle del algoritmo genético durante un número específico de\n",
    "generaciones, realizando selección, cruce, mutación y reemplazo en cada generación.\n",
    "9. Seguimiento: Realice un seguimiento del mejor individuo encontrado y su estado físico a lo largo de las\n",
    "generaciones. Genere la mejor solución y su idoneidad al final de la ejecución.\n",
    "10. Visualización: Trace la evolución de la mejor aptitud a lo largo de las generaciones para visualizar el\n",
    "proceso de optimización"
   ]
  }
 ],
 "metadata": {
  "language_info": {
   "name": "python"
  }
 },
 "nbformat": 4,
 "nbformat_minor": 2
}
