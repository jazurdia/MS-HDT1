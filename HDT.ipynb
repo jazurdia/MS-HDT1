{
 "cells": [
  {
   "cell_type": "markdown",
   "metadata": {},
   "source": [
    "# Ejercicio 01"
   ]
  },
  {
   "cell_type": "markdown",
   "metadata": {},
   "source": [
    "# Revisar presentacion para mora"
   ]
  },
  {
   "cell_type": "markdown",
   "metadata": {},
   "source": [
    "1. **¿Qué es un modelo?**\n",
    "   Un modelo es una representación simplificada de un sistema real que captura sus principales características y comportamientos. Se utiliza para analizar, comprender y predecir el comportamiento del sistema bajo diferentes condiciones. Los modelos pueden ser matemáticos, físicos, conceptuales o computacionales, y ayudan a los investigadores y profesionales a experimentar y evaluar diversas hipótesis y escenarios sin necesidad de interactuar directamente con el sistema real.\n",
    "\n",
    "2. **¿Qué es simulación?**\n",
    "   La simulación es una técnica que utiliza modelos para replicar y estudiar el comportamiento de un sistema real o imaginado a lo largo del tiempo. A través de la simulación, se pueden experimentar diferentes condiciones y escenarios, observando sus efectos sin riesgos o costos asociados con experimentos reales. Las simulaciones se utilizan en diversas áreas, como la ingeniería, la economía, la medicina y las ciencias sociales, para tomar decisiones informadas y optimizar procesos.\n",
    "\n",
    "3. **¿Qué es un algoritmo heurístico?**\n",
    "   Un algoritmo heurístico es un método de resolución de problemas que emplea una estrategia práctica y no óptima para encontrar una solución suficientemente buena en un tiempo razonable. Estos algoritmos son especialmente útiles para problemas complejos donde las soluciones exactas son difíciles de obtener. Las heurísticas se basan en reglas empíricas, intuiciones o enfoques simplificados que ayudan a reducir el espacio de búsqueda y a encontrar soluciones viables rápidamente, aunque no garantizan siempre la solución óptima.\n",
    "\n",
    "4. **Defina los pasos de algoritmos genéticos**\n",
    "   \n",
    "   Los algoritmos genéticos siguen una serie de pasos que imitan los procesos evolutivos naturales:\n",
    "    1. Conocer la población (Definir n población)\n",
    "    2. Calcular fitness\n",
    "    3. Realizar el cross over\n",
    "    4. Mutar\n",
    "    5. Evaluar fitness\n",
    "    6. Elegir los mas aptos\n",
    "    7. Re definir la nueva población con los más aptos\n",
    "    8. Regresar al paso 3. \n",
    "    9. Evaluar las condiciones de terminación\n",
    "            Pueden ser, pero no están limitadas a esto:\n",
    "        1. t iteraciones\n",
    "        2. porcentaje de la población con un fitness arriba de x valor\n",
    "        3. Que haya un individuo o un conjunto de individuos con ciertas características. \n",
    "    10. Presentar resultados"
   ]
  },
  {
   "cell_type": "markdown",
   "metadata": {},
   "source": [
    "# Ejercicio 02\n",
    "\n",
    "Mediante el uso de algoritmos genéticos, resuelva el siguiente ejercicio.\n",
    "Implemente un algoritmo genético en Python para encontrar el valor máximo de la función\n",
    "dentro del intervalo [0, 1]\n",
    "\n",
    "𝑓(𝑥) = 𝑥 * 𝑠𝑖𝑛(10π𝑥) + 1\n",
    "\n",
    "\n",
    "Para ello considere los siguientes pasos:\n",
    "1. Definir el problema: implemente la función objetivo\n",
    "2. Inicializar la población: genere una población inicial de individuos con valores aleatorios dentro de los\n",
    "límites dados.\n",
    "3. Evaluar aptitud: Cree una función para evaluar la aptitud de cada individuo en función de la función objetivo.\n",
    "4. Selección: Implemente un mecanismo de selección para elegir a los padres de la población en función de\n",
    "su aptitud.\n",
    "5. Crossover: Diseñe un método cruzado para producir descendencia combinando partes de dos padres.\n",
    "6. Mutación: implemente una función de mutación para introducir cambios aleatorios en algunos de los\n",
    "descendientes.\n",
    "7. Reemplazo: Forme una nueva población reemplazando algunos individuos antiguos por otros nuevos\n",
    "generados por cruce y mutación.\n",
    "8. Iteración a través de generaciones: Ejecute el bucle del algoritmo genético durante un número específico de\n",
    "generaciones, realizando selección, cruce, mutación y reemplazo en cada generación.\n",
    "9. Seguimiento: Realice un seguimiento del mejor individuo encontrado y su estado físico a lo largo de las\n",
    "generaciones. Genere la mejor solución y su idoneidad al final de la ejecución.\n",
    "10. Visualización: Trace la evolución de la mejor aptitud a lo largo de las generaciones para visualizar el\n",
    "proceso de optimización"
   ]
  },
  {
   "cell_type": "code",
   "execution_count": 4,
   "metadata": {},
   "outputs": [],
   "source": [
    "# Imports\n",
    "import numpy as np\n",
    "import matplotlib.pyplot as plt"
   ]
  },
  {
   "cell_type": "code",
   "execution_count": 5,
   "metadata": {},
   "outputs": [],
   "source": [
    "# Función Objetivo 𝑓(𝑥) = 𝑥 * 𝑠𝑖𝑛(10π𝑥) + 1\n",
    "def f(x):\n",
    "    return x * np.sin(10 * np.pi * x) + 1"
   ]
  },
  {
   "cell_type": "code",
   "execution_count": 6,
   "metadata": {},
   "outputs": [
    {
     "data": {
      "text/plain": [
       "array([0.9633795 , 0.07664962, 0.42552678, 0.25822004, 0.02108544,\n",
       "       0.22323325, 0.60680816, 0.00201701, 0.50936593, 0.78262196,\n",
       "       0.10056167, 0.16681603, 0.20006517, 0.60201903, 0.57305636,\n",
       "       0.20444008, 0.50232114, 0.89885498, 0.8441741 , 0.5779817 ,\n",
       "       0.87585348, 0.4298073 , 0.0397028 , 0.76744833, 0.6563718 ,\n",
       "       0.49347299, 0.87168178, 0.59700938, 0.15014228, 0.32203926,\n",
       "       0.98607863, 0.8523383 , 0.53763568, 0.26005954, 0.44922569,\n",
       "       0.57626863, 0.08103278, 0.17602388, 0.48466303, 0.09608396,\n",
       "       0.62789391, 0.06199938, 0.60189589, 0.33636764, 0.41760647,\n",
       "       0.20043914, 0.80322241, 0.86967825, 0.01004378, 0.16652065,\n",
       "       0.7830305 , 0.31908832, 0.35735263, 0.96449331, 0.57781702,\n",
       "       0.33915846, 0.39748358, 0.25032648, 0.97152662, 0.69191093,\n",
       "       0.12752101, 0.92764799, 0.30338939, 0.26594851, 0.86182941,\n",
       "       0.79221335, 0.69324287, 0.94531871, 0.83078757, 0.91867181,\n",
       "       0.25278985, 0.68111632, 0.90326192, 0.7352562 , 0.37029953,\n",
       "       0.92348872, 0.3856706 , 0.56834518, 0.66698815, 0.28181618,\n",
       "       0.27570562, 0.14705732, 0.10015592, 0.59446844, 0.77366828,\n",
       "       0.65950247, 0.75311022, 0.84663321, 0.34721007, 0.67484033,\n",
       "       0.08124357, 0.78255034, 0.83976813, 0.0926782 , 0.15684543,\n",
       "       0.70710487, 0.39064294, 0.67069007, 0.05042021, 0.3356967 ])"
      ]
     },
     "execution_count": 6,
     "metadata": {},
     "output_type": "execute_result"
    }
   ],
   "source": [
    "# tamaño de la población: 100\n",
    "# limites: [0, 1]\n",
    "pob_size, lim_inf, lim_sup = 100, 0, 1\n",
    "\n",
    "# Inicialización de la población\n",
    "poblacion = np.random.uniform(lim_inf, lim_sup, pob_size)\n",
    "poblacion"
   ]
  }
 ],
 "metadata": {
  "kernelspec": {
   "display_name": "Python 3",
   "language": "python",
   "name": "python3"
  },
  "language_info": {
   "codemirror_mode": {
    "name": "ipython",
    "version": 3
   },
   "file_extension": ".py",
   "mimetype": "text/x-python",
   "name": "python",
   "nbconvert_exporter": "python",
   "pygments_lexer": "ipython3",
   "version": "3.11.4"
  }
 },
 "nbformat": 4,
 "nbformat_minor": 2
}
